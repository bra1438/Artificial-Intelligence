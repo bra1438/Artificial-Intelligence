{
  "nbformat": 4,
  "nbformat_minor": 0,
  "metadata": {
    "colab": {
      "name": "count words.ipynb",
      "provenance": [],
      "authorship_tag": "ABX9TyOumyt6R/CmXAGpLjm7TJza",
      "include_colab_link": true
    },
    "kernelspec": {
      "name": "python3",
      "display_name": "Python 3"
    },
    "accelerator": "GPU"
  },
  "cells": [
    {
      "cell_type": "markdown",
      "metadata": {
        "id": "view-in-github",
        "colab_type": "text"
      },
      "source": [
        "<a href=\"https://colab.research.google.com/github/bra1438/Artificial-Intelligence/blob/master/count_words.ipynb\" target=\"_parent\"><img src=\"https://colab.research.google.com/assets/colab-badge.svg\" alt=\"Open In Colab\"/></a>"
      ]
    },
    {
      "cell_type": "code",
      "metadata": {
        "id": "UNwO3VhoCxdH",
        "colab_type": "code",
        "colab": {
          "base_uri": "https://localhost:8080/",
          "height": 131
        },
        "outputId": "364ec6c4-7228-413d-a0b2-eecbfa2e2dd5"
      },
      "source": [
        "import zipfile\n",
        "from google.colab import drive\n",
        "\n",
        "drive.mount('/content/drive/')"
      ],
      "execution_count": null,
      "outputs": [
        {
          "output_type": "stream",
          "text": [
            "Go to this URL in a browser: https://accounts.google.com/o/oauth2/auth?client_id=947318989803-6bn6qk8qdgf4n4g3pfee6491hc0brc4i.apps.googleusercontent.com&redirect_uri=urn%3aietf%3awg%3aoauth%3a2.0%3aoob&scope=email%20https%3a%2f%2fwww.googleapis.com%2fauth%2fdocs.test%20https%3a%2f%2fwww.googleapis.com%2fauth%2fdrive%20https%3a%2f%2fwww.googleapis.com%2fauth%2fdrive.photos.readonly%20https%3a%2f%2fwww.googleapis.com%2fauth%2fpeopleapi.readonly&response_type=code\n",
            "\n",
            "Enter your authorization code:\n",
            "··········\n",
            "Mounted at /content/drive/\n"
          ],
          "name": "stdout"
        }
      ]
    },
    {
      "cell_type": "code",
      "metadata": {
        "id": "k7KxS32XDeGJ",
        "colab_type": "code",
        "colab": {}
      },
      "source": [
        "zip_ref = zipfile.ZipFile(\"/content/drive/My Drive/file(3).zip\", 'r')\n"
      ],
      "execution_count": null,
      "outputs": []
    },
    {
      "cell_type": "code",
      "metadata": {
        "id": "l9rTWkUiEe16",
        "colab_type": "code",
        "colab": {}
      },
      "source": [
        "zip_ref.extractall()\n"
      ],
      "execution_count": null,
      "outputs": []
    },
    {
      "cell_type": "code",
      "metadata": {
        "id": "R9gabeK-ixif",
        "colab_type": "code",
        "colab": {}
      },
      "source": [
        "import os\n",
        "os.chdir('/content/txt4')"
      ],
      "execution_count": null,
      "outputs": []
    },
    {
      "cell_type": "code",
      "metadata": {
        "id": "EXJtJaMQEMuP",
        "colab_type": "code",
        "colab": {}
      },
      "source": [
        "import glob\n",
        "\n",
        "read_files = glob.glob(\"*.txt\")\n",
        "\n",
        "with open(\"result.txt\", \"wb\") as outfile:\n",
        "    for f in read_files:\n",
        "        with open(f, \"rb\") as infile:\n",
        "            outfile.write(infile.read())"
      ],
      "execution_count": null,
      "outputs": []
    },
    {
      "cell_type": "code",
      "metadata": {
        "id": "VR0TXdKfpKBP",
        "colab_type": "code",
        "colab": {}
      },
      "source": [
        "import glob\n",
        "\n",
        "read_files = glob.glob(\"result.txt\")"
      ],
      "execution_count": null,
      "outputs": []
    },
    {
      "cell_type": "code",
      "metadata": {
        "id": "jw7u8EcAEDel",
        "colab_type": "code",
        "colab": {}
      },
      "source": [
        "from collections import Counter\n",
        "def word_count(fname):\n",
        "        with open(fname) as f:\n",
        "                return Counter(f.read().split())\n",
        "\n"
      ],
      "execution_count": null,
      "outputs": []
    },
    {
      "cell_type": "code",
      "metadata": {
        "id": "eCSAtHeeZ7Mf",
        "colab_type": "code",
        "colab": {}
      },
      "source": [
        "import os\n",
        "os.chdir('/content/')"
      ],
      "execution_count": null,
      "outputs": []
    },
    {
      "cell_type": "code",
      "metadata": {
        "id": "wiSeVJwtLW35",
        "colab_type": "code",
        "colab": {}
      },
      "source": [
        "res = word_count(\"result.txt\")"
      ],
      "execution_count": null,
      "outputs": []
    },
    {
      "cell_type": "code",
      "metadata": {
        "id": "MkyO5a3Pk2kj",
        "colab_type": "code",
        "colab": {}
      },
      "source": [
        "#Get the frequency of every word in the file\n",
        "\n",
        "with open('outfile', 'w') as w:\n",
        "    w.write(\"The word frequency is \" + str(res))\n"
      ],
      "execution_count": null,
      "outputs": []
    },
    {
      "cell_type": "code",
      "metadata": {
        "id": "l7UBblAdLama",
        "colab_type": "code",
        "colab": {
          "base_uri": "https://localhost:8080/",
          "height": 1000
        },
        "outputId": "93b1b636-3dee-4d5d-d76f-b9b655b7da82"
      },
      "source": [
        "n = 100\n",
        "res.most_common()[:-n-1:-1]"
      ],
      "execution_count": null,
      "outputs": [
        {
          "output_type": "execute_result",
          "data": {
            "text/plain": [
              "[('للشمس', 1),\n",
              " ('الكـآمل', 1),\n",
              " ('الغرووب', 1),\n",
              " ('وافي', 1),\n",
              " ('وتزوجتج', 1),\n",
              " ('اتزوجج', 1),\n",
              " ('وطبع', 1),\n",
              " ('الغروب', 1),\n",
              " ('غروبها', 1),\n",
              " ('ودم', 1),\n",
              " ('بنوتته', 1),\n",
              " ('وحمدوه', 1),\n",
              " ('وشكرو', 1),\n",
              " ('وشكرهم', 1),\n",
              " ('التراحم', 1),\n",
              " ('قصور', 1),\n",
              " ('فبنينا', 1),\n",
              " ('نخطط', 1),\n",
              " ('ماتضيع', 1),\n",
              " ('فقررنا', 1),\n",
              " ('وعاطينا', 1),\n",
              " ('منعم', 1),\n",
              " ('نبيهم', 1),\n",
              " ('شتسوين', 1),\n",
              " ('قسوم', 1),\n",
              " ('جسمان', 1),\n",
              " ('متضاربين', 1),\n",
              " ('وقسوم', 1),\n",
              " ('يوها', 1),\n",
              " ('سولي', 1),\n",
              " ('عبدالرحمن', 1),\n",
              " ('وسخت', 1),\n",
              " ('دحومي', 1),\n",
              " ('ذبحوني', 1),\n",
              " ('يودهم', 1),\n",
              " ('يننتوني', 1),\n",
              " ('وبكفخكم', 1),\n",
              " ('ويلستون', 1),\n",
              " ('ماييتون', 1),\n",
              " ('مراموه', 1),\n",
              " ('نحاسه', 1),\n",
              " ('امور', 1),\n",
              " ('وتوسخ', 1),\n",
              " ('هالبنوته', 1),\n",
              " ('اوسخ', 1),\n",
              " ('شطوره', 1),\n",
              " ('اوسح', 1),\n",
              " ('ستوله', 1),\n",
              " ('توسخك', 1),\n",
              " ('واب', 1),\n",
              " ('يننتني', 1),\n",
              " ('صافي', 1),\n",
              " ('يقومج', 1),\n",
              " ('بالسادس', 1),\n",
              " ('والاصيل', 1),\n",
              " ('وتجمعهم', 1),\n",
              " ('الوفاء', 1),\n",
              " ('ماخذينه', 1),\n",
              " ('متيمعه', 1),\n",
              " ('العوآيل', 1),\n",
              " ('وتزوجو', 1),\n",
              " ('عزآبي', 1),\n",
              " ('وجدان', 1),\n",
              " ('وياب', 1),\n",
              " ('محمود', 1),\n",
              " ('وستقرو', 1),\n",
              " ('والهنوف', 1),\n",
              " ('نوف', 1),\n",
              " ('بولدين', 1),\n",
              " ('صاربو', 1),\n",
              " ('كبرو', 1),\n",
              " ('الثـآمن', 1),\n",
              " ('الاماراتي', 1),\n",
              " ('ودفاه', 1),\n",
              " ('ورومانسيتها', 1),\n",
              " ('وعمرهم', 1),\n",
              " ('ومرام', 1),\n",
              " ('سمتهم', 1),\n",
              " ('عمتها', 1),\n",
              " ('فدك', 1),\n",
              " ('سـنــوآآت', 1),\n",
              " ('اربــع', 1),\n",
              " ('مــرور', 1),\n",
              " ('بـــــعـــد', 1),\n",
              " ('متلاصق', 1),\n",
              " ('بمحلها', 1),\n",
              " ('وناداها', 1),\n",
              " ('*يقصد', 1),\n",
              " ('هالثقيل', 1),\n",
              " ('تغيري', 1),\n",
              " ('الزوجيه', 1),\n",
              " ('عشيقها', 1),\n",
              " ('وحبايبها', 1),\n",
              " ('الاصداف', 1),\n",
              " ('الولو', 1),\n",
              " ('يمثلون', 1),\n",
              " ('اصدآف', 1),\n",
              " ('يحرمنا', 1),\n",
              " (':مبروك', 1),\n",
              " ('معنوياتها', 1)]"
            ]
          },
          "metadata": {
            "tags": []
          },
          "execution_count": 14
        }
      ]
    },
    {
      "cell_type": "code",
      "metadata": {
        "id": "CxVk90IEVZc2",
        "colab_type": "code",
        "colab": {}
      },
      "source": [
        " res.com"
      ],
      "execution_count": null,
      "outputs": []
    },
    {
      "cell_type": "code",
      "metadata": {
        "id": "Rn6Uv28bVSXY",
        "colab_type": "code",
        "colab": {}
      },
      "source": [
        "fdist1 = fdist.most_common(10)\n",
        "fdist1"
      ],
      "execution_count": null,
      "outputs": []
    },
    {
      "cell_type": "code",
      "metadata": {
        "id": "QQJxNVB5w_5b",
        "colab_type": "code",
        "colab": {}
      },
      "source": [
        "\n",
        "\n",
        "import os\n",
        "\n",
        "path, dirs, files = next(os.walk(\"/content/txt4\"))\n",
        "file_count = len(files)\n",
        "\n"
      ],
      "execution_count": null,
      "outputs": []
    }
  ]
}