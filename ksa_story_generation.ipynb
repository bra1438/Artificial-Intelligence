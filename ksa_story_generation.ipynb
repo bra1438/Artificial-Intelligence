{
  "nbformat": 4,
  "nbformat_minor": 0,
  "metadata": {
    "colab": {
      "name": "ksa story generation.ipynb",
      "provenance": [],
      "authorship_tag": "ABX9TyO3onX4OOKslTpes1lRiwDL",
      "include_colab_link": true
    },
    "kernelspec": {
      "name": "python3",
      "display_name": "Python 3"
    }
  },
  "cells": [
    {
      "cell_type": "markdown",
      "metadata": {
        "id": "view-in-github",
        "colab_type": "text"
      },
      "source": [
        "<a href=\"https://colab.research.google.com/github/bra1438/Artificial-Intelligence/blob/master/ksa_story_generation.ipynb\" target=\"_parent\"><img src=\"https://colab.research.google.com/assets/colab-badge.svg\" alt=\"Open In Colab\"/></a>"
      ]
    },
    {
      "cell_type": "code",
      "metadata": {
        "id": "GshiRLM-GTZF",
        "colab_type": "code",
        "colab": {
          "base_uri": "https://localhost:8080/",
          "height": 111
        },
        "outputId": "51ef8797-972d-40ae-d1cb-2db7dd23afc6"
      },
      "source": [
        "import numpy as np\n",
        "\n",
        "ksa_story = open('story1.txt', encoding='utf8').read()\n",
        "\n",
        "corpus = ksa_story.split()\n",
        "\n",
        "def make_pairs(corpus):\n",
        "    for i in range(len(corpus)-1):\n",
        "        yield (corpus[i], corpus[i+1])\n",
        "        \n",
        "pairs = make_pairs(corpus)\n",
        "\n",
        "word_dict = {}\n",
        "\n",
        "for word_1, word_2 in pairs:\n",
        "    if word_1 in word_dict.keys():\n",
        "        word_dict[word_1].append(word_2)\n",
        "    else:\n",
        "        word_dict[word_1] = [word_2]\n",
        " \n",
        "first_word = np.random.choice(corpus)\n",
        "\n",
        "while first_word.islower():\n",
        "    first_word = np.random.choice(corpus)\n",
        "\n",
        "chain = [first_word]\n",
        "\n",
        "n_words = 100\n",
        "\n",
        "for i in range(n_words):\n",
        "    chain.append(np.random.choice(word_dict[chain[-1]]))\n",
        "\n",
        "' '.join(chain)"
      ],
      "execution_count": null,
      "outputs": [
        {
          "output_type": "execute_result",
          "data": {
            "application/vnd.google.colaboratory.intrinsic+json": {
              "type": "string"
            },
            "text/plain": [
              "'راكان وصعب تسأله. قررت إنها تلتفت لرجال الجالس وهي تشوف أم محمد زوجة الولد راح ترمي بنفسها ويبقى لوالدها مكانته وسمعته وهو حاط يده يفتش بين الحرب والشعراء وأبو راكان وقت سمعت أن اللي بيتزوجه ؟ ما يكون بكعكة لكن ما هي ما راح يمر فتعال أرجع وأخذني \" أنا اللي تجلس معه وتتكلم في الهبال والسوالف\" ناصر:-\" ما تدري بالخطط اللي نفسه اللعبة مرتين وتبيني أصدقك....مثل أمس! يوم سمعت أبوها اللي جاوبتك أنا أصير ولد صغير وكبير وأنتي كل شيء لأني محرفها إلا بنسب أبوه. قربن منها تسوي فقالت لينا بتفهمين كل النواحي أسلوبه وتخليه يعرف إنها لفت لينا ولا'"
            ]
          },
          "metadata": {
            "tags": []
          },
          "execution_count": 25
        }
      ]
    }
  ]
}
